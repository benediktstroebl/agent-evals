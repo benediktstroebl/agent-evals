{
 "cells": [
  {
   "cell_type": "code",
   "execution_count": 1,
   "id": "e5a2f9ed-5701-4366-97cb-84bec4c2c1b1",
   "metadata": {},
   "outputs": [],
   "source": [
    "import getpass\n",
    "import os\n",
    "\n",
    "os.environ[\"OPENAI_API_KEY\"] = ..."
   ]
  },
  {
   "cell_type": "code",
   "execution_count": 3,
   "id": "ec5e9a2f-b248-413b-bc9e-d0717c54238c",
   "metadata": {},
   "outputs": [],
   "source": [
    "import bs4\n",
    "from langchain import hub\n",
    "from langchain_community.document_loaders import WebBaseLoader\n",
    "from langchain_chroma import Chroma\n",
    "from langchain_core.output_parsers import StrOutputParser\n",
    "from langchain_core.runnables import RunnablePassthrough\n",
    "from langchain_openai import OpenAIEmbeddings\n",
    "from langchain_text_splitters import RecursiveCharacterTextSplitter"
   ]
  },
  {
   "cell_type": "code",
   "execution_count": 4,
   "id": "0270a019-7625-4e93-bb7c-074337ff38dc",
   "metadata": {},
   "outputs": [],
   "source": [
    "from langchain_openai import ChatOpenAI\n",
    "\n",
    "llm = ChatOpenAI(model=\"gpt-4-turbo\")"
   ]
  },
  {
   "cell_type": "code",
   "execution_count": 5,
   "id": "fb812263-8a89-4d00-b336-1fcf8d69ce89",
   "metadata": {},
   "outputs": [],
   "source": [
    "from langchain_chroma import Chroma\n",
    "from langchain_community.document_loaders import TextLoader\n",
    "from langchain_community.embeddings.sentence_transformer import (\n",
    "    SentenceTransformerEmbeddings,\n",
    ")\n",
    "from langchain_text_splitters import CharacterTextSplitter\n",
    "import json"
   ]
  },
  {
   "cell_type": "code",
   "execution_count": 6,
   "id": "753df651-d92c-4e89-960d-8820598e9169",
   "metadata": {},
   "outputs": [],
   "source": [
    "from langchain_core.prompts import PromptTemplate\n",
    "\n",
    "template = \"\"\"You are a literature professor. I will provide you with snippets from a novel along with a question and corresponding choices pertaining to it. Please thoroughly analyze the content to accurately respond to the question.\n",
    "\n",
    "Relevant snippets from the novel: \n",
    "\n",
    "{context}\n",
    "\n",
    "Question: \n",
    "\n",
    "{question}\n",
    "\n",
    "Only respond with the index of the correct answer (e.g., choose between A, B, C, and D). Your output should not contain anything else.\"\"\"\n",
    "\n",
    "custom_rag_prompt = PromptTemplate.from_template(template)"
   ]
  },
  {
   "cell_type": "code",
   "execution_count": null,
   "id": "fd248bf5-6606-4b3c-8662-1887b49d59ef",
   "metadata": {},
   "outputs": [],
   "source": [
    "def format_docs(docs):\n",
    "    return \"\\n\\n\".join(doc.page_content for doc in docs)\n",
    "\n",
    "folder_path = \"./NovelQA/Raw_Novels\"\n",
    "final_output = {}\n",
    "\n",
    "for i, filename in enumerate(os.listdir(folder_path)):\n",
    "    if filename.endswith(\".txt\"):\n",
    "        print(i, len(os.listdir(folder_path)), filename)\n",
    "        file_path = os.path.join(folder_path, filename)\n",
    "        loader = TextLoader(file_path)\n",
    "        documents = loader.load()\n",
    "\n",
    "        # split it into chunks\n",
    "        text_splitter = RecursiveCharacterTextSplitter(chunk_size=1000, chunk_overlap=0, add_start_index=True)\n",
    "        splits = text_splitter.split_documents(documents)\n",
    "        vectorstore = Chroma.from_documents(documents=splits, embedding=OpenAIEmbeddings(model=\"text-embedding-3-large\"))\n",
    "        retriever = vectorstore.as_retriever(search_type=\"similarity\", search_kwargs={\"k\": 10})\n",
    "\n",
    "        # Get the base name of the file (without the extension)\n",
    "        base_name = os.path.splitext(filename)[0]\n",
    "\n",
    "        # Construct the new filename with the .json extension\n",
    "        json_filename = base_name + '.json'\n",
    "\n",
    "        question_path = \"./NovelQA/Data\"\n",
    "        question_path = os.path.join(question_path, json_filename)\n",
    "        answers = []\n",
    "        \n",
    "        with open(question_path) as file:\n",
    "            # Load the JSON data into a Python object\n",
    "            questions = json.load(file)\n",
    "        \n",
    "            # Iterate over the elements in the JSON data\n",
    "            for i, question in enumerate(questions):\n",
    "                print(i, len(questions))\n",
    "                # Access specific fields in each item\n",
    "                question_name = question['Question']\n",
    "                question_options = '\\n'.join(f'{chr(65+i)}. {s}' for i, s in enumerate(question['Options']))\n",
    "                title_name = '\\n The title of the novel is: ' + base_name + '\\n'\n",
    "                final_question = title_name + question_name + '\\n' + question_options\n",
    "                rag_chain = (\n",
    "                    {\"context\": retriever | format_docs, \"question\": RunnablePassthrough()}\n",
    "                    | custom_rag_prompt\n",
    "                    | llm\n",
    "                    | StrOutputParser()\n",
    "                )\n",
    "                response = rag_chain.invoke(final_question)\n",
    "                answers.append(response[0])\n",
    "            \n",
    "            final_output[base_name] = answers\n",
    "            print(base_name, final_output)\n",
    "        vectorstore.delete_collection()\n",
    "\n",
    "with open('res_mc_gpt4.json', 'w') as json_file:\n",
    "    json.dump(final_output, json_file, indent=4)"
   ]
  },
  {
   "cell_type": "code",
   "execution_count": 9,
   "id": "141aec02-30e6-4312-a992-a4f0931a7853",
   "metadata": {},
   "outputs": [],
   "source": [
    "# refresh vectors\n",
    "vectorstore.delete_collection()"
   ]
  },
  {
   "cell_type": "code",
   "execution_count": null,
   "id": "ad2caeed-951e-4ea8-9a9d-de2aa9f50d7e",
   "metadata": {},
   "outputs": [],
   "source": []
  }
 ],
 "metadata": {
  "kernelspec": {
   "display_name": "Python 3 (ipykernel)",
   "language": "python",
   "name": "python3"
  },
  "language_info": {
   "codemirror_mode": {
    "name": "ipython",
    "version": 3
   },
   "file_extension": ".py",
   "mimetype": "text/x-python",
   "name": "python",
   "nbconvert_exporter": "python",
   "pygments_lexer": "ipython3",
   "version": "3.12.2"
  }
 },
 "nbformat": 4,
 "nbformat_minor": 5
}
