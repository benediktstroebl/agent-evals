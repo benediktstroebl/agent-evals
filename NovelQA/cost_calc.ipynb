{
 "cells": [
  {
   "cell_type": "code",
   "execution_count": 1,
   "metadata": {},
   "outputs": [],
   "source": [
    "# import boto3\n",
    "import glob\n",
    "import json\n",
    "import argparse\n",
    "from tqdm import tqdm\n",
    "# from botocore.config import Config\n",
    "\n",
    "def read_txt_file(file_path):\n",
    "    \"\"\"\n",
    "    Reads a text file and returns the content as a string.\n",
    "\n",
    "    :param file_path: Path to the .txt file to be read.\n",
    "    :return: Content of the file as a string.\n",
    "    \"\"\"\n",
    "    try:\n",
    "        with open(file_path, 'r') as file:\n",
    "            content = file.read()\n",
    "        return content\n",
    "    except FileNotFoundError:\n",
    "        return \"The file was not found.\"\n",
    "    except Exception as e:\n",
    "        return f\"An error occurred: {e}\"\n",
    "\n",
    "def read_json_file(file_path):\n",
    "    \"\"\"\n",
    "    Reads a JSON file and returns the content as a dictionary.\n",
    "\n",
    "    :param file_path: Path to the .json file to be read.\n",
    "    :return: Content of the file as a dictionary.\n",
    "    \"\"\"\n",
    "    import json\n",
    "\n",
    "    try:  \n",
    "        with open(file_path, 'r') as file:\n",
    "            content = json.load(file)\n",
    "        return content\n",
    "    except FileNotFoundError:\n",
    "        return \"The file was not found.\"\n",
    "    except json.JSONDecodeError:\n",
    "        return \"The file is not a valid JSON file.\"\n",
    "    except Exception as e:\n",
    "        return f\"An error occurred: {e}\""
   ]
  },
  {
   "cell_type": "code",
   "execution_count": 3,
   "metadata": {},
   "outputs": [],
   "source": [
    "import tiktoken\n",
    "\n",
    "encoding = tiktoken.encoding_for_model(\"gpt-4\")\n",
    "\n",
    "# for each json in directory load the json and calculate the total token count of the fields 'Question' and 'Options' of all dicts in it\n",
    "\n",
    "def count_tokens_in_json_files(directory):\n",
    "    \"\"\"\n",
    "    Counts the total number of tokens in the 'Question' and 'Options' fields of all JSON files in the specified directory.\n",
    "\n",
    "    :param directory: Path to the directory containing the JSON files.\n",
    "    :return: Total number of tokens in the 'Question' and 'Options' fields of all JSON files in the directory.\n",
    "    \"\"\"\n",
    "    json_files = glob.glob(f\"{directory}/*.json\")\n",
    "    total_tokens = 0\n",
    "\n",
    "    for file in tqdm(json_files):\n",
    "        content = read_json_file(file)\n",
    "        if isinstance(content, dict):\n",
    "            for question in content:\n",
    "                question_text = question.get('Question', '')\n",
    "                options_text = question.get('Options', '')\n",
    "                total_tokens += len(encoding(question_text + options_text).tokens)\n",
    "    return total_tokens"
   ]
  },
  {
   "cell_type": "code",
   "execution_count": 33,
   "metadata": {},
   "outputs": [
    {
     "name": "stderr",
     "output_type": "stream",
     "text": [
      "100%|██████████| 88/88 [00:00<00:00, 1205.85it/s]"
     ]
    },
    {
     "name": "stdout",
     "output_type": "stream",
     "text": [
      "Total tokens for all question and options 110094\n",
      "Total number of questions 2283\n",
      "Total number of novels 88\n"
     ]
    },
    {
     "name": "stderr",
     "output_type": "stream",
     "text": [
      "\n"
     ]
    }
   ],
   "source": [
    "directory = \"_data/hub/datasets--NovelQA--NovelQA/snapshots/47755b7f1d5810dc01ea9d6074d45ad126019f45/Data\"\n",
    "json_files = glob.glob(f\"{directory}/*.json\")\n",
    "\n",
    "total_tokens = 0\n",
    "total_nr_of_questions = 0\n",
    "nr_of_novels = 0\n",
    "for file in tqdm(json_files):\n",
    "    nr_of_novels += 1\n",
    "    content = read_json_file(file)\n",
    "    for question in content:\n",
    "        total_nr_of_questions += 1\n",
    "        question_text = question.get('Question', '')\n",
    "        options_text = \"\".join(question.get('Options', ''))\n",
    "        total_tokens += len(encoding.encode(question_text + options_text))\n",
    "print(\"Total tokens for all question and options\", total_tokens)\n",
    "print(\"Total number of questions\", total_nr_of_questions)\n",
    "print(\"Total number of novels\", nr_of_novels)"
   ]
  },
  {
   "cell_type": "code",
   "execution_count": 31,
   "metadata": {},
   "outputs": [
    {
     "name": "stdout",
     "output_type": "stream",
     "text": [
      "Token count of starter prompt 690.8068181818181\n"
     ]
    }
   ],
   "source": [
    "# token count of starter prompt\n",
    "starter_prompt = \"\"\"You are a literature professor. I will provide you with the full text of a novel\n",
    "along with a series of questions and corresponding choices pertaining to it.\n",
    "Please thoroughly analyze the novel ’s content to accurately respond to each of the following questions.\n",
    "Book title: ; Book Content: ; Book ends. Questions start here:\n",
    "; Questions end here.\n",
    "Try your best to select the correct choice to each question based on the given full text the novel.\n",
    "Your should output the choice to each question with the format\n",
    "’Answer0: <choice> Answer1: <choice>... Answern: <choice>’\n",
    "(only the choice index is required), each answer in one line without outputing the questions and other info.\"\"\"\n",
    "total_tokens_main_prompt = len(encoding.encode(starter_prompt))\n",
    "total_tokens_questions_template = total_nr_of_questions/nr_of_novels * len(encoding.encode(\"Question:  Choices: 0:  1:  2:  3: \")) # avg number of questions per novel x template tokens\n",
    "\n",
    "print(\"Token count of starter prompt\", total_tokens_main_prompt+total_tokens_questions_template)"
   ]
  }
 ],
 "metadata": {
  "kernelspec": {
   "display_name": "novelqa",
   "language": "python",
   "name": "python3"
  },
  "language_info": {
   "codemirror_mode": {
    "name": "ipython",
    "version": 3
   },
   "file_extension": ".py",
   "mimetype": "text/x-python",
   "name": "python",
   "nbconvert_exporter": "python",
   "pygments_lexer": "ipython3",
   "version": "3.10.14"
  }
 },
 "nbformat": 4,
 "nbformat_minor": 2
}
