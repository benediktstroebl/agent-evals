{
 "cells": [
  {
   "cell_type": "code",
   "execution_count": 1,
   "metadata": {},
   "outputs": [],
   "source": [
    "import json\n",
    "\n",
    "def count_elements_in_jsonl(file_path):\n",
    "    \"\"\"\n",
    "    Counts the number of elements in a JSONL file.\n",
    "    \n",
    "    :param file_path: Path to the JSONL file\n",
    "    :return: None\n",
    "    \"\"\"\n",
    "    count = 0\n",
    "    with open(file_path, 'r', encoding='utf-8') as file:\n",
    "        for line in file:\n",
    "            try:\n",
    "                # Try to parse the JSON line to ensure it's valid\n",
    "                json.loads(line)\n",
    "                count += 1\n",
    "            except json.JSONDecodeError:\n",
    "                print(f\"Warning: Invalid JSON object encountered and skipped at line {count + 1}\")\n",
    "    \n",
    "    print(f\"Total number of elements in the file: {count}\")\n",
    "    return \n",
    "\n",
    "\n"
   ]
  },
  {
   "cell_type": "code",
   "execution_count": 2,
   "metadata": {},
   "outputs": [
    {
     "name": "stdout",
     "output_type": "stream",
     "text": [
      "Total number of elements in the file: 91\n"
     ]
    }
   ],
   "source": [
    "# Replace 'your_file_path.jsonl' with the actual path to your JSONL file\n",
    "file_path = '/scratch/gpfs/bs6865/LanguageAgentTreeSearch/programming/root/gpt4_mcts_3_full/humaneval-py._mcts_8_gpt-4-1106-preview_pass_at_k_1_py.jsonl'\n",
    "count_elements_in_jsonl(file_path)"
   ]
  }
 ],
 "metadata": {
  "kernelspec": {
   "display_name": "lats",
   "language": "python",
   "name": "python3"
  },
  "language_info": {
   "codemirror_mode": {
    "name": "ipython",
    "version": 3
   },
   "file_extension": ".py",
   "mimetype": "text/x-python",
   "name": "python",
   "nbconvert_exporter": "python",
   "pygments_lexer": "ipython3",
   "version": "3.10.14"
  }
 },
 "nbformat": 4,
 "nbformat_minor": 2
}
